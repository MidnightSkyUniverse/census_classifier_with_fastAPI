{
 "cells": [
  {
   "cell_type": "code",
   "execution_count": 2,
   "id": "21edba9f",
   "metadata": {},
   "outputs": [],
   "source": [
    "import hydra\n",
    "import logging\n",
    "from omegaconf import DictConfig\n",
    "\n",
    "# from numpy import array\n",
    "import pandas as pd\n",
    "from sklearn.model_selection import KFold, train_test_split\n",
    "# import joblib\n",
    "\n",
    "from ml.data import process_data\n",
    "from ml.model import train_KNeighbours_model, train_LogisticRegression_model, \\\n",
    "        train_RandomForest_model, compute_model_metrics, inference, roc_curve_plot, \\\n",
    "        mean_calculation\n"
   ]
  },
  {
   "cell_type": "code",
   "execution_count": 3,
   "id": "e261f522",
   "metadata": {},
   "outputs": [
    {
     "ename": "NameError",
     "evalue": "name 'pth' is not defined",
     "output_type": "error",
     "traceback": [
      "\u001b[0;31m---------------------------------------------------------------------------\u001b[0m",
      "\u001b[0;31mNameError\u001b[0m                                 Traceback (most recent call last)",
      "\u001b[0;32m/tmp/ipykernel_184486/1675330832.py\u001b[0m in \u001b[0;36m<module>\u001b[0;34m\u001b[0m\n\u001b[0;32m----> 1\u001b[0;31m \u001b[0mdata\u001b[0m \u001b[0;34m=\u001b[0m \u001b[0mpd\u001b[0m\u001b[0;34m.\u001b[0m\u001b[0mread_csv\u001b[0m\u001b[0;34m(\u001b[0m\u001b[0mpth\u001b[0m\u001b[0;34m)\u001b[0m\u001b[0;34m\u001b[0m\u001b[0;34m\u001b[0m\u001b[0m\n\u001b[0m",
      "\u001b[0;31mNameError\u001b[0m: name 'pth' is not defined"
     ]
    }
   ],
   "source": [
    "data = pd.read_csv(pth)"
   ]
  },
  {
   "cell_type": "code",
   "execution_count": null,
   "id": "689223a1",
   "metadata": {},
   "outputs": [],
   "source": []
  }
 ],
 "metadata": {
  "kernelspec": {
   "display_name": "Python 3 (ipykernel)",
   "language": "python",
   "name": "python3"
  },
  "language_info": {
   "codemirror_mode": {
    "name": "ipython",
    "version": 3
   },
   "file_extension": ".py",
   "mimetype": "text/x-python",
   "name": "python",
   "nbconvert_exporter": "python",
   "pygments_lexer": "ipython3",
   "version": "3.8.12"
  }
 },
 "nbformat": 4,
 "nbformat_minor": 5
}
